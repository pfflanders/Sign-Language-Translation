{
 "cells": [
  {
   "cell_type": "code",
   "execution_count": 18,
   "id": "84203a6c-97a3-4b9f-8fbc-489974cdfbb8",
   "metadata": {},
   "outputs": [],
   "source": [
    "import numpy as np\n",
    "import pandas as pd\n",
    "import tensorflow as tf\n",
    "from tensorflow import keras\n",
    "\n",
    "from tensorflow.keras.models import Sequential\n",
    "from tensorflow.keras.layers import InputLayer, Flatten, Dense, ReLU, Softmax, Conv2D, Dropout, BatchNormalization\n",
    "from tensorflow.keras.optimizers import Adam\n",
    "from tensorflow.keras.losses import CategoricalCrossentropy\n",
    "from tensorflow.keras.metrics import CategoricalAccuracy\n",
    "\n",
    "#filepath = \"models/mobilenet7\""
   ]
  },
  {
   "cell_type": "code",
   "execution_count": 21,
   "id": "3325fbfd-4edd-41e0-a73b-83ca04522774",
   "metadata": {},
   "outputs": [
    {
     "data": {
      "text/plain": [
       "<tensorflow.python.training.tracking.util.CheckpointLoadStatus at 0x7f8330c3ed30>"
      ]
     },
     "execution_count": 21,
     "metadata": {},
     "output_type": "execute_result"
    }
   ],
   "source": [
    "IMG_SIZE = (56,56)\n",
    "IMG_SHAPE = IMG_SIZE + (1,)\n",
    "base_model = tf.keras.applications.MobileNetV2(input_shape=IMG_SHAPE, include_top=False, weights=None)\n",
    "\n",
    "\n",
    "model = Sequential([\n",
    "        base_model,\n",
    "        Flatten(),\n",
    "        Dense(25),\n",
    "        Softmax(),\n",
    "])\n",
    "model.compile(\n",
    "    optimizer=\"adam\",\n",
    "    loss=CategoricalCrossentropy(),\n",
    "    metrics=[CategoricalAccuracy()]\n",
    ")\n",
    "model.load_weights('models/mobilenet7/variables/variables')"
   ]
  },
  {
   "cell_type": "code",
   "execution_count": null,
   "id": "24c6a08f-592c-4207-b135-294983f75831",
   "metadata": {},
   "outputs": [],
   "source": [
    "letter = model.predict()\n"
   ]
  }
 ],
 "metadata": {
  "kernelspec": {
   "display_name": "Python [conda env:anaconda3-PIC16B] *",
   "language": "python",
   "name": "conda-env-anaconda3-PIC16B-py"
  },
  "language_info": {
   "codemirror_mode": {
    "name": "ipython",
    "version": 3
   },
   "file_extension": ".py",
   "mimetype": "text/x-python",
   "name": "python",
   "nbconvert_exporter": "python",
   "pygments_lexer": "ipython3",
   "version": "3.8.12"
  }
 },
 "nbformat": 4,
 "nbformat_minor": 5
}
