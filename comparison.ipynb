{
 "cells": [
  {
   "cell_type": "code",
   "execution_count": 1,
   "metadata": {},
   "outputs": [],
   "source": [
    "import numpy as np # linear algebra\n",
    "# import pandas as pd # data processing, CSV file I/O (e.g. pd.read_csv)\n",
    "\n",
    "# import matplotlib.pyplot as plt\n",
    "import keras\n",
    "from keras.models import Sequential\n",
    "from keras.layers import Dense, Conv2D , MaxPool2D , Flatten , Dropout , BatchNormalization\n",
    "\n",
    "import os\n",
    "\n",
    "from PIL import Image\n",
    "import PIL"
   ]
  },
  {
   "cell_type": "code",
   "execution_count": 2,
   "metadata": {},
   "outputs": [],
   "source": [
    "from tensorflow.keras.models import Sequential\n",
    "from tensorflow.keras.layers import InputLayer, Flatten, Dense, ReLU, Softmax, Conv2D, Dropout\n",
    "from tensorflow.keras.optimizers import Adam\n",
    "from tensorflow.keras.losses import CategoricalCrossentropy\n",
    "from tensorflow.keras.metrics import CategoricalAccuracy\n",
    "\n",
    "# from low_rank_layer import LowRankDense\n",
    "# y_model = Sequential([\n",
    "#     InputLayer(input_shape=(56, 56, 1)),\n",
    "#     Conv2D(64, 5),\n",
    "#     ReLU(),\n",
    "#     Conv2D(64, 3),\n",
    "#     ReLU(),\n",
    "#     Conv2D(64, 3, strides=2),\n",
    "#     ReLU(),\n",
    "#     Dropout(0.2),\n",
    "#     Conv2D(128, 3, strides=2),\n",
    "#     ReLU(),\n",
    "#     Dropout(0.2),\n",
    "#     Conv2D(128, 3, strides=2),\n",
    "#     ReLU(),\n",
    "#     Dropout(0.2),\n",
    "#     Flatten(),\n",
    "#     LowRankDense(512, init_rank=40),\n",
    "#     ReLU(),\n",
    "#     LowRankDense(512, init_rank=20),\n",
    "#     ReLU(),\n",
    "#     Dense(25),\n",
    "#     Softmax(),\n",
    "# ])"
   ]
  },
  {
   "cell_type": "code",
   "execution_count": 3,
   "metadata": {},
   "outputs": [],
   "source": [
    "# y_model.compile(\n",
    "#         optimizer=Adam(learning_rate=0.001),\n",
    "#         loss=CategoricalCrossentropy(),\n",
    "#         metrics=[CategoricalAccuracy()]\n",
    "#     )\n"
   ]
  },
  {
   "cell_type": "code",
   "execution_count": 4,
   "metadata": {},
   "outputs": [],
   "source": [
    "# y_model.load_weights(r'model_run_7/variables/variables')"
   ]
  },
  {
   "cell_type": "code",
   "execution_count": 5,
   "metadata": {},
   "outputs": [],
   "source": [
    "# y_model.summary()"
   ]
  },
  {
   "cell_type": "code",
   "execution_count": 6,
   "metadata": {},
   "outputs": [],
   "source": [
    "model = Sequential([\n",
    "    InputLayer(input_shape=(56, 56, 1)),\n",
    "    Conv2D(64, 5),\n",
    "    ReLU(),\n",
    "    Conv2D(64, 3),\n",
    "    ReLU(),\n",
    "    Conv2D(64, 3, strides=2),\n",
    "    ReLU(),\n",
    "    Dropout(0.2),\n",
    "    Conv2D(128, 3, strides=2),\n",
    "    ReLU(),\n",
    "    Dropout(0.2),\n",
    "    Conv2D(128, 3, strides=2),\n",
    "    ReLU(),\n",
    "    Dropout(0.2),\n",
    "    Flatten(),\n",
    "    Dense(512),\n",
    "    ReLU(),\n",
    "    Dense(512),\n",
    "    ReLU(),\n",
    "    Dense(25),\n",
    "    Softmax(),\n",
    "])\n",
    "model.compile(\n",
    "    optimizer=Adam(learning_rate=0.001),\n",
    "    loss=CategoricalCrossentropy(),\n",
    "    metrics=[CategoricalAccuracy()]\n",
    ")"
   ]
  },
  {
   "cell_type": "code",
   "execution_count": 7,
   "metadata": {},
   "outputs": [],
   "source": [
    "# woah_model.load_weights(r'model_run_7/variables/variables')"
   ]
  },
  {
   "cell_type": "code",
   "execution_count": 8,
   "metadata": {},
   "outputs": [],
   "source": [
    "from keras.preprocessing.image import ImageDataGenerator\n"
   ]
  },
  {
   "cell_type": "code",
   "execution_count": 13,
   "metadata": {},
   "outputs": [
    {
     "name": "stdout",
     "output_type": "stream",
     "text": [
      "Found 107589 images belonging to 25 classes.\n",
      "Found 11948 images belonging to 25 classes.\n"
     ]
    }
   ],
   "source": [
    "data_dir = \"live\"\n",
    "target_size = (56, 56)\n",
    "target_dims = (56, 56, 1) # add channel for RGB\n",
    "n_classes = 25\n",
    "val_frac = 0.1\n",
    "batch_size = 512\n",
    "\n",
    "data_augmentor = ImageDataGenerator(\n",
    "    horizontal_flip=True,\n",
    "    rotation_range=10,\n",
    "    validation_split=val_frac, \n",
    "    rescale=(1/255.0)\n",
    ")\n",
    "\n",
    "train_generator = data_augmentor.flow_from_directory(data_dir, target_size=target_size, batch_size=batch_size, shuffle=True, subset=\"training\", color_mode=\"grayscale\")\n",
    "val_generator = data_augmentor.flow_from_directory(data_dir, target_size=target_size, batch_size=batch_size, subset=\"validation\", color_mode=\"grayscale\")"
   ]
  },
  {
   "cell_type": "code",
   "execution_count": 14,
   "metadata": {},
   "outputs": [
    {
     "name": "stdout",
     "output_type": "stream",
     "text": [
      "Epoch 1/10\n",
      "211/211 [==============================] - 146s 674ms/step - loss: 2.9172 - categorical_accuracy: 0.1408 - val_loss: 2.0525 - val_categorical_accuracy: 0.3915\n",
      "Epoch 2/10\n",
      "211/211 [==============================] - 117s 555ms/step - loss: 1.3847 - categorical_accuracy: 0.5726 - val_loss: 0.6748 - val_categorical_accuracy: 0.7893\n",
      "Epoch 3/10\n",
      "211/211 [==============================] - 116s 548ms/step - loss: 0.6172 - categorical_accuracy: 0.8021 - val_loss: 0.3370 - val_categorical_accuracy: 0.8948\n",
      "Epoch 4/10\n",
      "211/211 [==============================] - 123s 582ms/step - loss: 0.3673 - categorical_accuracy: 0.8805 - val_loss: 0.2176 - val_categorical_accuracy: 0.9320\n",
      "Epoch 5/10\n",
      "211/211 [==============================] - 114s 538ms/step - loss: 0.2619 - categorical_accuracy: 0.9126 - val_loss: 0.1574 - val_categorical_accuracy: 0.9529\n",
      "Epoch 6/10\n",
      "211/211 [==============================] - 130s 616ms/step - loss: 0.1982 - categorical_accuracy: 0.9343 - val_loss: 0.1218 - val_categorical_accuracy: 0.9616\n",
      "Epoch 7/10\n",
      "211/211 [==============================] - 132s 626ms/step - loss: 0.1640 - categorical_accuracy: 0.9457 - val_loss: 0.1044 - val_categorical_accuracy: 0.9680\n",
      "Epoch 8/10\n",
      "211/211 [==============================] - 112s 527ms/step - loss: 0.1323 - categorical_accuracy: 0.9560 - val_loss: 0.0692 - val_categorical_accuracy: 0.9791\n",
      "Epoch 9/10\n",
      "211/211 [==============================] - 119s 561ms/step - loss: 0.1283 - categorical_accuracy: 0.9577 - val_loss: 0.0678 - val_categorical_accuracy: 0.9787\n",
      "Epoch 10/10\n",
      "211/211 [==============================] - 114s 541ms/step - loss: 0.1075 - categorical_accuracy: 0.9638 - val_loss: 0.0580 - val_categorical_accuracy: 0.9822\n"
     ]
    },
    {
     "data": {
      "text/plain": [
       "<keras.callbacks.History at 0x1173d0c4550>"
      ]
     },
     "execution_count": 14,
     "metadata": {},
     "output_type": "execute_result"
    }
   ],
   "source": [
    "# model.fit(train_generator, epochs=10, validation_data=val_generator)\n",
    "# woah_model.load('testing_models//full_dense_1')"
   ]
  },
  {
   "cell_type": "code",
   "execution_count": 15,
   "metadata": {},
   "outputs": [
    {
     "name": "stdout",
     "output_type": "stream",
     "text": [
      "INFO:tensorflow:Assets written to: testing_models//full_dense_2_gpu\\assets\n"
     ]
    }
   ],
   "source": [
    "model.save('testing_models//full_dense_2_gpu')"
   ]
  },
  {
   "cell_type": "code",
   "execution_count": 16,
   "metadata": {},
   "outputs": [
    {
     "name": "stdout",
     "output_type": "stream",
     "text": [
      "24/24 [==============================] - 10s 418ms/step - loss: 0.0538 - categorical_accuracy: 0.9838\n"
     ]
    },
    {
     "data": {
      "text/plain": [
       "[0.053806837648153305, 0.9838466644287109]"
      ]
     },
     "execution_count": 16,
     "metadata": {},
     "output_type": "execute_result"
    }
   ],
   "source": [
    "model.evaluate(val_generator)"
   ]
  },
  {
   "cell_type": "code",
   "execution_count": null,
   "metadata": {},
   "outputs": [],
   "source": []
  },
  {
   "cell_type": "code",
   "execution_count": null,
   "metadata": {},
   "outputs": [],
   "source": []
  },
  {
   "cell_type": "code",
   "execution_count": null,
   "metadata": {},
   "outputs": [],
   "source": []
  },
  {
   "cell_type": "code",
   "execution_count": null,
   "metadata": {},
   "outputs": [],
   "source": []
  },
  {
   "cell_type": "code",
   "execution_count": null,
   "metadata": {},
   "outputs": [],
   "source": []
  },
  {
   "cell_type": "code",
   "execution_count": null,
   "metadata": {},
   "outputs": [],
   "source": []
  },
  {
   "cell_type": "code",
   "execution_count": null,
   "metadata": {},
   "outputs": [],
   "source": []
  },
  {
   "cell_type": "code",
   "execution_count": null,
   "metadata": {},
   "outputs": [],
   "source": []
  },
  {
   "cell_type": "code",
   "execution_count": 33,
   "metadata": {},
   "outputs": [],
   "source": []
  },
  {
   "cell_type": "code",
   "execution_count": null,
   "metadata": {},
   "outputs": [],
   "source": []
  },
  {
   "cell_type": "code",
   "execution_count": null,
   "metadata": {},
   "outputs": [],
   "source": [
    "# letter = \"c\"\n",
    "# file_name = f'C:\\\\Users\\\\famil\\\\Pictures\\\\Camera Roll\\\\peter_hands\\\\{letter}_peter.jpg'\n",
    "# sign = Image.open(file_name)\n",
    "# sign = sign.transpose(PIL.Image.FLIP_LEFT_RIGHT)\n",
    "# sign = sign.resize((28, 28))\n",
    "# arr = np.asarray(sign)\n",
    "# arr = arr/255.0\n",
    "# my_hand = arr[:,:,0].reshape((1,28,28,1))\n",
    "# my_hand = (my_hand - my_hand.min()) / (my_hand.max() - my_hand.min())\n",
    "\n",
    "# plt.imshow(my_hand[0], cmap=\"gray\")\n",
    "# plt.show()\n",
    "# my_guess = y_model.predict(my_hand)\n",
    "# plt.bar(list(\"abcdefghijklmnopqrstuvwxy\"), my_guess[0], )\n",
    "# plt.title(f\"label: {letter}\")\n",
    "# plt.show()\n",
    "\n",
    "# for e in x_train[np.argmax(y_train, axis=1) == 2][:4]:\n",
    "#     plt.imshow(e, cmap=\"gray\")\n",
    "#     plt.show()"
   ]
  }
 ],
 "metadata": {
  "interpreter": {
   "hash": "f81349ffdc8d4e36933e784ebc2234ca7f5a72661c99f3606ca107c59cb48f13"
  },
  "kernelspec": {
   "display_name": "Python 3.9.7 64-bit ('venv': venv)",
   "name": "python3"
  },
  "language_info": {
   "codemirror_mode": {
    "name": "ipython",
    "version": 3
   },
   "file_extension": ".py",
   "mimetype": "text/x-python",
   "name": "python",
   "nbconvert_exporter": "python",
   "pygments_lexer": "ipython3",
   "version": "3.9.7"
  },
  "orig_nbformat": 4
 },
 "nbformat": 4,
 "nbformat_minor": 2
}
