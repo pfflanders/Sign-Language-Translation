{
 "cells": [
  {
   "cell_type": "code",
   "execution_count": 1,
   "metadata": {},
   "outputs": [],
   "source": [
    "import numpy as np # linear algebra\n",
    "import matplotlib.pyplot as plt\n",
    "import keras\n",
    "from keras.models import Sequential\n",
    "from keras.layers import Dense, Conv2D , MaxPool2D , Flatten , Dropout , BatchNormalization\n",
    "from PIL import Image\n",
    "import PIL\n",
    "from tensorflow.keras.models import Sequential\n",
    "from tensorflow.keras.layers import InputLayer, Flatten, Dense, ReLU, Softmax, Conv2D, Dropout\n",
    "from tensorflow.keras.optimizers import Adam\n",
    "from tensorflow.keras.losses import CategoricalCrossentropy\n",
    "from tensorflow.keras.metrics import CategoricalAccuracy\n",
    "from keras.preprocessing.image import ImageDataGenerator"
   ]
  },
  {
   "cell_type": "code",
   "execution_count": 3,
   "metadata": {},
   "outputs": [],
   "source": [
    "# Modified Model based on https://www.kaggle.com/madz2000/cnn-using-keras-100-accuracy\n",
    "model = Sequential([\n",
    "    InputLayer(input_shape=(56, 56, 1)),\n",
    "    Conv2D(64, 5),\n",
    "    ReLU(),\n",
    "    Conv2D(64, 3),\n",
    "    ReLU(),\n",
    "    Conv2D(64, 3, strides=2),\n",
    "    ReLU(),\n",
    "    Dropout(0.2),\n",
    "    Conv2D(128, 3, strides=2),\n",
    "    ReLU(),\n",
    "    Dropout(0.2),\n",
    "    Conv2D(128, 3, strides=2),\n",
    "    ReLU(),\n",
    "    Dropout(0.2),\n",
    "    Flatten(),\n",
    "    Dense(512),\n",
    "    ReLU(),\n",
    "    Dense(512),\n",
    "    ReLU(),\n",
    "    Dense(25),\n",
    "    Softmax(),\n",
    "])\n",
    "\n",
    "model.compile(\n",
    "    optimizer=Adam(learning_rate=0.001),\n",
    "    loss=CategoricalCrossentropy(),\n",
    "    metrics=[CategoricalAccuracy()]\n",
    ")"
   ]
  },
  {
   "cell_type": "code",
   "execution_count": 13,
   "metadata": {},
   "outputs": [
    {
     "name": "stdout",
     "output_type": "stream",
     "text": [
      "Found 107589 images belonging to 25 classes.\n",
      "Found 11948 images belonging to 25 classes.\n"
     ]
    }
   ],
   "source": [
    "# We store our data in a standard categorical file structure. \n",
    "# Within live is a folder for each class and within their respective folder is our data\n",
    "# We \n",
    "data_dir = \"live\"\n",
    "target_size = (56, 56)\n",
    "target_dims = (56, 56, 1) # add channel for RGB\n",
    "n_classes = 25\n",
    "val_frac = 0.1\n",
    "batch_size = 512\n",
    "\n",
    "data_augmentor = ImageDataGenerator(\n",
    "    horizontal_flip=True,\n",
    "    rotation_range=10,\n",
    "    validation_split=val_frac, \n",
    "    rescale=(1/255.0)\n",
    ")\n",
    "\n",
    "train_generator = data_augmentor.flow_from_directory(data_dir, target_size=target_size, batch_size=batch_size, shuffle=True, subset=\"training\", color_mode=\"grayscale\")\n",
    "val_generator = data_augmentor.flow_from_directory(data_dir, target_size=target_size, batch_size=batch_size, subset=\"validation\", color_mode=\"grayscale\")"
   ]
  },
  {
   "cell_type": "code",
   "execution_count": 7,
   "metadata": {},
   "outputs": [],
   "source": [
    "# model.fit(train_generator, epochs=10, validation_data=val_generator)\n",
    "model = keras.models.load_model('testing_models//full_dense_1')"
   ]
  },
  {
   "cell_type": "code",
   "execution_count": 15,
   "metadata": {},
   "outputs": [
    {
     "name": "stdout",
     "output_type": "stream",
     "text": [
      "INFO:tensorflow:Assets written to: testing_models//full_dense_2_gpu\\assets\n"
     ]
    }
   ],
   "source": [
    "model.save('testing_models//full_dense_2_gpu')"
   ]
  },
  {
   "cell_type": "code",
   "execution_count": 16,
   "metadata": {},
   "outputs": [
    {
     "name": "stdout",
     "output_type": "stream",
     "text": [
      "24/24 [==============================] - 10s 418ms/step - loss: 0.0538 - categorical_accuracy: 0.9838\n"
     ]
    },
    {
     "data": {
      "text/plain": [
       "[0.053806837648153305, 0.9838466644287109]"
      ]
     },
     "execution_count": 16,
     "metadata": {},
     "output_type": "execute_result"
    }
   ],
   "source": [
    "model.evaluate(val_generator)"
   ]
  },
  {
   "cell_type": "code",
   "execution_count": null,
   "metadata": {},
   "outputs": [],
   "source": []
  },
  {
   "cell_type": "code",
   "execution_count": null,
   "metadata": {},
   "outputs": [],
   "source": []
  },
  {
   "cell_type": "code",
   "execution_count": null,
   "metadata": {},
   "outputs": [],
   "source": []
  },
  {
   "cell_type": "code",
   "execution_count": null,
   "metadata": {},
   "outputs": [],
   "source": []
  },
  {
   "cell_type": "code",
   "execution_count": null,
   "metadata": {},
   "outputs": [],
   "source": []
  },
  {
   "cell_type": "code",
   "execution_count": null,
   "metadata": {},
   "outputs": [],
   "source": []
  },
  {
   "cell_type": "code",
   "execution_count": null,
   "metadata": {},
   "outputs": [],
   "source": []
  },
  {
   "cell_type": "code",
   "execution_count": null,
   "metadata": {},
   "outputs": [],
   "source": []
  },
  {
   "cell_type": "code",
   "execution_count": 33,
   "metadata": {},
   "outputs": [],
   "source": []
  },
  {
   "cell_type": "code",
   "execution_count": null,
   "metadata": {},
   "outputs": [],
   "source": []
  },
  {
   "cell_type": "code",
   "execution_count": null,
   "metadata": {},
   "outputs": [],
   "source": [
    "# letter = \"c\"\n",
    "# file_name = f'C:\\\\Users\\\\famil\\\\Pictures\\\\Camera Roll\\\\peter_hands\\\\{letter}_peter.jpg'\n",
    "# sign = Image.open(file_name)\n",
    "# sign = sign.transpose(PIL.Image.FLIP_LEFT_RIGHT)\n",
    "# sign = sign.resize((28, 28))\n",
    "# arr = np.asarray(sign)\n",
    "# arr = arr/255.0\n",
    "# my_hand = arr[:,:,0].reshape((1,28,28,1))\n",
    "# my_hand = (my_hand - my_hand.min()) / (my_hand.max() - my_hand.min())\n",
    "\n",
    "# plt.imshow(my_hand[0], cmap=\"gray\")\n",
    "# plt.show()\n",
    "# my_guess = y_model.predict(my_hand)\n",
    "# plt.bar(list(\"abcdefghijklmnopqrstuvwxy\"), my_guess[0], )\n",
    "# plt.title(f\"label: {letter}\")\n",
    "# plt.show()\n",
    "\n",
    "# for e in x_train[np.argmax(y_train, axis=1) == 2][:4]:\n",
    "#     plt.imshow(e, cmap=\"gray\")\n",
    "#     plt.show()"
   ]
  },
  {
   "cell_type": "code",
   "execution_count": 3,
   "metadata": {},
   "outputs": [],
   "source": [
    "# from low_rank_layer import LowRankDense\n",
    "# y_model = Sequential([\n",
    "#     InputLayer(input_shape=(56, 56, 1)),\n",
    "#     Conv2D(64, 5),\n",
    "#     ReLU(),\n",
    "#     Conv2D(64, 3),\n",
    "#     ReLU(),\n",
    "#     Conv2D(64, 3, strides=2),\n",
    "#     ReLU(),\n",
    "#     Dropout(0.2),\n",
    "#     Conv2D(128, 3, strides=2),\n",
    "#     ReLU(),\n",
    "#     Dropout(0.2),\n",
    "#     Conv2D(128, 3, strides=2),\n",
    "#     ReLU(),\n",
    "#     Dropout(0.2),\n",
    "#     Flatten(),\n",
    "#     LowRankDense(512, init_rank=40),\n",
    "#     ReLU(),\n",
    "#     LowRankDense(512, init_rank=20),\n",
    "#     ReLU(),\n",
    "#     Dense(25),\n",
    "#     Softmax(),\n",
    "# ])\n",
    "# \n",
    "# # y_model.compile(\n",
    "#         optimizer=Adam(learning_rate=0.001),\n",
    "#         loss=CategoricalCrossentropy(),\n",
    "#         metrics=[CategoricalAccuracy()]\n",
    "#     )\n",
    "\n",
    "# y_model.load_weights(r'model_run_7/variables/variables')\n",
    "\n",
    "# y_model.summary()"
   ]
  }
 ],
 "metadata": {
  "interpreter": {
   "hash": "1babaeecd556e1fb2253d9ca375b07f63e9f1812af09c2d04a12af80aaa5d808"
  },
  "kernelspec": {
   "display_name": "Python 3.7.11 64-bit ('cnn': conda)",
   "name": "python3"
  },
  "language_info": {
   "codemirror_mode": {
    "name": "ipython",
    "version": 3
   },
   "file_extension": ".py",
   "mimetype": "text/x-python",
   "name": "python",
   "nbconvert_exporter": "python",
   "pygments_lexer": "ipython3",
   "version": "3.7.11"
  },
  "orig_nbformat": 4
 },
 "nbformat": 4,
 "nbformat_minor": 2
}
