{
 "cells": [
  {
   "cell_type": "code",
   "execution_count": 1,
   "metadata": {},
   "outputs": [],
   "source": [
    "import numpy as np # linear algebra\n",
    "# import pandas as pd # data processing, CSV file I/O (e.g. pd.read_csv)\n",
    "\n",
    "# import matplotlib.pyplot as plt\n",
    "import keras\n",
    "from keras.models import Sequential\n",
    "from keras.layers import Dense, Conv2D , MaxPool2D , Flatten , Dropout , BatchNormalization\n",
    "\n",
    "import os\n",
    "\n",
    "from PIL import Image\n",
    "import PIL"
   ]
  },
  {
   "cell_type": "code",
   "execution_count": 2,
   "metadata": {},
   "outputs": [],
   "source": [
    "from tensorflow.keras.models import Sequential\n",
    "from tensorflow.keras.layers import InputLayer, Flatten, Dense, ReLU, Softmax, Conv2D, Dropout\n",
    "from tensorflow.keras.optimizers import Adam\n",
    "from tensorflow.keras.losses import CategoricalCrossentropy\n",
    "from tensorflow.keras.metrics import CategoricalAccuracy\n",
    "\n",
    "# from low_rank_layer import LowRankDense\n",
    "# y_model = Sequential([\n",
    "#     InputLayer(input_shape=(56, 56, 1)),\n",
    "#     Conv2D(64, 5),\n",
    "#     ReLU(),\n",
    "#     Conv2D(64, 3),\n",
    "#     ReLU(),\n",
    "#     Conv2D(64, 3, strides=2),\n",
    "#     ReLU(),\n",
    "#     Dropout(0.2),\n",
    "#     Conv2D(128, 3, strides=2),\n",
    "#     ReLU(),\n",
    "#     Dropout(0.2),\n",
    "#     Conv2D(128, 3, strides=2),\n",
    "#     ReLU(),\n",
    "#     Dropout(0.2),\n",
    "#     Flatten(),\n",
    "#     LowRankDense(512, init_rank=40),\n",
    "#     ReLU(),\n",
    "#     LowRankDense(512, init_rank=20),\n",
    "#     ReLU(),\n",
    "#     Dense(25),\n",
    "#     Softmax(),\n",
    "# ])"
   ]
  },
  {
   "cell_type": "code",
   "execution_count": 3,
   "metadata": {},
   "outputs": [],
   "source": [
    "# y_model.compile(\n",
    "#         optimizer=Adam(learning_rate=0.001),\n",
    "#         loss=CategoricalCrossentropy(),\n",
    "#         metrics=[CategoricalAccuracy()]\n",
    "#     )\n"
   ]
  },
  {
   "cell_type": "code",
   "execution_count": 4,
   "metadata": {},
   "outputs": [],
   "source": [
    "# y_model.load_weights(r'model_run_7/variables/variables')"
   ]
  },
  {
   "cell_type": "code",
   "execution_count": 5,
   "metadata": {},
   "outputs": [],
   "source": [
    "# y_model.summary()"
   ]
  },
  {
   "cell_type": "code",
   "execution_count": 6,
   "metadata": {},
   "outputs": [],
   "source": [
    "woah_model = Sequential([\n",
    "    InputLayer(input_shape=(56, 56, 1)),\n",
    "    Conv2D(64, 5),\n",
    "    ReLU(),\n",
    "    Conv2D(64, 3),\n",
    "    ReLU(),\n",
    "    Conv2D(64, 3, strides=2),\n",
    "    ReLU(),\n",
    "    Dropout(0.2),\n",
    "    Conv2D(128, 3, strides=2),\n",
    "    ReLU(),\n",
    "    Dropout(0.2),\n",
    "    Conv2D(128, 3, strides=2),\n",
    "    ReLU(),\n",
    "    Dropout(0.2),\n",
    "    Flatten(),\n",
    "    Dense(512),\n",
    "    ReLU(),\n",
    "    Dense(512),\n",
    "    ReLU(),\n",
    "    Dense(25),\n",
    "    Softmax(),\n",
    "])\n",
    "woah_model.compile(\n",
    "    optimizer=Adam(learning_rate=0.001),\n",
    "    loss=CategoricalCrossentropy(),\n",
    "    metrics=[CategoricalAccuracy()]\n",
    ")"
   ]
  },
  {
   "cell_type": "code",
   "execution_count": 7,
   "metadata": {},
   "outputs": [],
   "source": [
    "# woah_model.load_weights(r'model_run_7/variables/variables')"
   ]
  },
  {
   "cell_type": "code",
   "execution_count": 8,
   "metadata": {},
   "outputs": [],
   "source": [
    "from keras.preprocessing.image import ImageDataGenerator\n"
   ]
  },
  {
   "cell_type": "code",
   "execution_count": 13,
   "metadata": {},
   "outputs": [
    {
     "name": "stdout",
     "output_type": "stream",
     "text": [
      "Found 107589 images belonging to 25 classes.\n",
      "Found 11948 images belonging to 25 classes.\n"
     ]
    }
   ],
   "source": [
    "data_dir = \"../live/\"\n",
    "target_size = (56, 56)\n",
    "target_dims = (56, 56, 1) # add channel for RGB\n",
    "n_classes = 25\n",
    "val_frac = 0.1\n",
    "batch_size = 4096\n",
    "\n",
    "data_augmentor = ImageDataGenerator(samplewise_center=True, \n",
    "                                    samplewise_std_normalization=True, \n",
    "                                    validation_split=val_frac)\n",
    "\n",
    "train_generator = data_augmentor.flow_from_directory(data_dir, target_size=target_size, batch_size=batch_size, shuffle=True, subset=\"training\", color_mode=\"grayscale\")\n",
    "val_generator = data_augmentor.flow_from_directory(data_dir, target_size=target_size, batch_size=batch_size, subset=\"validation\", color_mode=\"grayscale\")"
   ]
  },
  {
   "cell_type": "code",
   "execution_count": 14,
   "metadata": {},
   "outputs": [
    {
     "name": "stdout",
     "output_type": "stream",
     "text": [
      "Epoch 1/5\n",
      "27/27 [==============================] - 490s 18s/step - loss: 1.3811 - categorical_accuracy: 0.5807 - val_loss: 1.1357 - val_categorical_accuracy: 0.6742\n",
      "Epoch 2/5\n",
      "27/27 [==============================] - 451s 17s/step - loss: 0.8985 - categorical_accuracy: 0.7283 - val_loss: 0.7176 - val_categorical_accuracy: 0.7929\n",
      "Epoch 3/5\n",
      "27/27 [==============================] - 473s 18s/step - loss: 0.5251 - categorical_accuracy: 0.8391 - val_loss: 0.3674 - val_categorical_accuracy: 0.9006\n",
      "Epoch 4/5\n",
      "27/27 [==============================] - 455s 17s/step - loss: 0.2801 - categorical_accuracy: 0.9142 - val_loss: 0.1867 - val_categorical_accuracy: 0.9499\n",
      "Epoch 5/5\n",
      "27/27 [==============================] - 450s 17s/step - loss: 0.1587 - categorical_accuracy: 0.9496 - val_loss: 0.1103 - val_categorical_accuracy: 0.9705\n"
     ]
    },
    {
     "data": {
      "text/plain": [
       "<tensorflow.python.keras.callbacks.History at 0x1e31bb5ff88>"
      ]
     },
     "execution_count": 14,
     "metadata": {},
     "output_type": "execute_result"
    }
   ],
   "source": [
    "woah_model.fit(train_generator, epochs=5, validation_data=val_generator)"
   ]
  },
  {
   "cell_type": "code",
   "execution_count": 16,
   "metadata": {},
   "outputs": [
    {
     "name": "stdout",
     "output_type": "stream",
     "text": [
      "Model: \"sequential\"\n",
      "_________________________________________________________________\n",
      "Layer (type)                 Output Shape              Param #   \n",
      "=================================================================\n",
      "conv2d (Conv2D)              (None, 52, 52, 64)        1664      \n",
      "_________________________________________________________________\n",
      "re_lu (ReLU)                 (None, 52, 52, 64)        0         \n",
      "_________________________________________________________________\n",
      "conv2d_1 (Conv2D)            (None, 50, 50, 64)        36928     \n",
      "_________________________________________________________________\n",
      "re_lu_1 (ReLU)               (None, 50, 50, 64)        0         \n",
      "_________________________________________________________________\n",
      "conv2d_2 (Conv2D)            (None, 24, 24, 64)        36928     \n",
      "_________________________________________________________________\n",
      "re_lu_2 (ReLU)               (None, 24, 24, 64)        0         \n",
      "_________________________________________________________________\n",
      "dropout (Dropout)            (None, 24, 24, 64)        0         \n",
      "_________________________________________________________________\n",
      "conv2d_3 (Conv2D)            (None, 11, 11, 128)       73856     \n",
      "_________________________________________________________________\n",
      "re_lu_3 (ReLU)               (None, 11, 11, 128)       0         \n",
      "_________________________________________________________________\n",
      "dropout_1 (Dropout)          (None, 11, 11, 128)       0         \n",
      "_________________________________________________________________\n",
      "conv2d_4 (Conv2D)            (None, 5, 5, 128)         147584    \n",
      "_________________________________________________________________\n",
      "re_lu_4 (ReLU)               (None, 5, 5, 128)         0         \n",
      "_________________________________________________________________\n",
      "dropout_2 (Dropout)          (None, 5, 5, 128)         0         \n",
      "_________________________________________________________________\n",
      "flatten (Flatten)            (None, 3200)              0         \n",
      "_________________________________________________________________\n",
      "dense (Dense)                (None, 512)               1638912   \n",
      "_________________________________________________________________\n",
      "re_lu_5 (ReLU)               (None, 512)               0         \n",
      "_________________________________________________________________\n",
      "dense_1 (Dense)              (None, 512)               262656    \n",
      "_________________________________________________________________\n",
      "re_lu_6 (ReLU)               (None, 512)               0         \n",
      "_________________________________________________________________\n",
      "dense_2 (Dense)              (None, 25)                12825     \n",
      "_________________________________________________________________\n",
      "softmax (Softmax)            (None, 25)                0         \n",
      "=================================================================\n",
      "Total params: 2,211,353\n",
      "Trainable params: 2,211,353\n",
      "Non-trainable params: 0\n",
      "_________________________________________________________________\n"
     ]
    }
   ],
   "source": [
    "woah_model.summary()"
   ]
  },
  {
   "cell_type": "code",
   "execution_count": 18,
   "metadata": {},
   "outputs": [
    {
     "name": "stdout",
     "output_type": "stream",
     "text": [
      "3/3 [==============================] - 12s 4s/step - loss: 0.1103 - categorical_accuracy: 0.9705\n"
     ]
    },
    {
     "data": {
      "text/plain": [
       "[0.11031047254800797, 0.9704552888870239]"
      ]
     },
     "execution_count": 18,
     "metadata": {},
     "output_type": "execute_result"
    }
   ],
   "source": [
    "woah_model.evaluate(val_generator)"
   ]
  },
  {
   "cell_type": "code",
   "execution_count": 19,
   "metadata": {},
   "outputs": [
    {
     "name": "stdout",
     "output_type": "stream",
     "text": [
      "WARNING:tensorflow:From C:\\Users\\5089pff\\AppData\\Local\\ESRI\\conda\\envs\\cnn\\lib\\site-packages\\tensorflow\\python\\training\\tracking\\tracking.py:111: Model.state_updates (from tensorflow.python.keras.engine.training) is deprecated and will be removed in a future version.\n",
      "Instructions for updating:\n",
      "This property should not be used in TensorFlow 2.0, as updates are applied automatically.\n",
      "WARNING:tensorflow:From C:\\Users\\5089pff\\AppData\\Local\\ESRI\\conda\\envs\\cnn\\lib\\site-packages\\tensorflow\\python\\training\\tracking\\tracking.py:111: Layer.updates (from tensorflow.python.keras.engine.base_layer) is deprecated and will be removed in a future version.\n",
      "Instructions for updating:\n",
      "This property should not be used in TensorFlow 2.0, as updates are applied automatically.\n",
      "INFO:tensorflow:Assets written to: full_dense_1\\assets\n"
     ]
    }
   ],
   "source": [
    "woah_model.save('full_dense_1')"
   ]
  },
  {
   "cell_type": "code",
   "execution_count": 30,
   "metadata": {},
   "outputs": [
    {
     "data": {
      "text/plain": [
       "((7172, 28, 28, 1), (7172, 25))"
      ]
     },
     "execution_count": 30,
     "metadata": {},
     "output_type": "execute_result"
    }
   ],
   "source": [
    "x_test.shape, y_test.shape"
   ]
  },
  {
   "cell_type": "code",
   "execution_count": 31,
   "metadata": {},
   "outputs": [
    {
     "name": "stdout",
     "output_type": "stream",
     "text": [
      "7/7 [==============================] - 2s 352ms/step - loss: 0.0195 - categorical_accuracy: 0.9942\n",
      "2/2 [==============================] - 0s 169ms/step - loss: 0.0805 - categorical_accuracy: 0.9776\n"
     ]
    },
    {
     "data": {
      "text/plain": [
       "[0.08049363642930984, 0.9775515794754028]"
      ]
     },
     "execution_count": 31,
     "metadata": {},
     "output_type": "execute_result"
    }
   ],
   "source": [
    "y_model.evaluate(x_train, y_train, batch_size=4096)\n",
    "y_model.evaluate(x_test, y_test, batch_size=4096)"
   ]
  },
  {
   "cell_type": "code",
   "execution_count": null,
   "metadata": {},
   "outputs": [],
   "source": []
  },
  {
   "cell_type": "code",
   "execution_count": null,
   "metadata": {},
   "outputs": [],
   "source": []
  },
  {
   "cell_type": "code",
   "execution_count": null,
   "metadata": {},
   "outputs": [],
   "source": []
  },
  {
   "cell_type": "code",
   "execution_count": null,
   "metadata": {},
   "outputs": [],
   "source": []
  },
  {
   "cell_type": "code",
   "execution_count": 33,
   "metadata": {},
   "outputs": [],
   "source": []
  },
  {
   "cell_type": "code",
   "execution_count": null,
   "metadata": {},
   "outputs": [],
   "source": []
  },
  {
   "cell_type": "code",
   "execution_count": null,
   "metadata": {},
   "outputs": [],
   "source": [
    "letter = \"c\"\n",
    "file_name = f'C:\\\\Users\\\\famil\\\\Pictures\\\\Camera Roll\\\\peter_hands\\\\{letter}_peter.jpg'\n",
    "sign = Image.open(file_name)\n",
    "sign = sign.transpose(PIL.Image.FLIP_LEFT_RIGHT)\n",
    "sign = sign.resize((28, 28))\n",
    "arr = np.asarray(sign)\n",
    "arr = arr/255.0\n",
    "my_hand = arr[:,:,0].reshape((1,28,28,1))\n",
    "my_hand = (my_hand - my_hand.min()) / (my_hand.max() - my_hand.min())\n",
    "\n",
    "plt.imshow(my_hand[0], cmap=\"gray\")\n",
    "plt.show()\n",
    "my_guess = y_model.predict(my_hand)\n",
    "plt.bar(list(\"abcdefghijklmnopqrstuvwxy\"), my_guess[0], )\n",
    "plt.title(f\"label: {letter}\")\n",
    "plt.show()"
   ]
  },
  {
   "cell_type": "code",
   "execution_count": null,
   "metadata": {},
   "outputs": [],
   "source": [
    "for e in x_train[np.argmax(y_train, axis=1) == 2][:4]:\n",
    "    plt.imshow(e, cmap=\"gray\")\n",
    "    plt.show()"
   ]
  },
  {
   "cell_type": "code",
   "execution_count": null,
   "metadata": {},
   "outputs": [],
   "source": []
  }
 ],
 "metadata": {
  "interpreter": {
   "hash": "1babaeecd556e1fb2253d9ca375b07f63e9f1812af09c2d04a12af80aaa5d808"
  },
  "kernelspec": {
   "display_name": "Python 3.7.11 64-bit ('cnn': conda)",
   "name": "python3"
  },
  "language_info": {
   "codemirror_mode": {
    "name": "ipython",
    "version": 3
   },
   "file_extension": ".py",
   "mimetype": "text/x-python",
   "name": "python",
   "nbconvert_exporter": "python",
   "pygments_lexer": "ipython3",
   "version": "3.7.11"
  },
  "orig_nbformat": 4
 },
 "nbformat": 4,
 "nbformat_minor": 2
}
